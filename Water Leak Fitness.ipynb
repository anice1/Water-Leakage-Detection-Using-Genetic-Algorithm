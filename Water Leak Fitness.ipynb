{
 "cells": [
  {
   "cell_type": "code",
   "execution_count": 25,
   "id": "4d341521",
   "metadata": {
    "scrolled": true
   },
   "outputs": [
    {
     "data": {
      "text/plain": [
       "0.5"
      ]
     },
     "execution_count": 25,
     "metadata": {},
     "output_type": "execute_result"
    }
   ],
   "source": [
    "import pygad\n",
    "import numpy\n",
    "import matplotlib.pyplot as plt\n",
    "import os\n",
    "import wntr\n",
    "\n",
    "def change_emitter_inp():\n",
    "    with open('Real_Synthetic_Artificial_leak_N6.inp','r') as file:\n",
    "        content = file.read().split('\\n')\n",
    "        #find the '[EMITTERS]' in content\n",
    "        index = content.index('[EMITTERS]')\n",
    "        coefficient = float(content[index+2].split()[1])\n",
    "        file.close()\n",
    "    return coefficient\n",
    "        \n",
    "change_emitter_inp()"
   ]
  },
  {
   "cell_type": "code",
   "execution_count": 43,
   "id": "a2d8a9b1",
   "metadata": {
    "scrolled": false
   },
   "outputs": [
    {
     "name": "stdout",
     "output_type": "stream",
     "text": [
      "[TITLE]\n",
      "\n",
      "\n",
      "[JUNCTIONS]\n",
      ";ID              \tElev        \tDemand      \tPattern         \n",
      " N1              \t25          \t1           \t                \t;\n",
      " N5              \t10          \t13          \t                \t;\n",
      " N10             \t5           \t1.2         \t                \t;\n",
      " N7              \t5           \t1.21        \t                \t;\n",
      " N2              \t9           \t12.6        \t                \t;\n",
      " N6              \t7           \t10.1        \t                \t;\n",
      " N3              \t6           \t1.1         \t                \t;\n",
      " N8              \t6           \t23          \t                \t;\n",
      " N13             \t0           \t1.7         \t                \t;\n",
      " N9              \t7           \t3.9         \t                \t;\n",
      " N14             \t6           \t1.5         \t                \t;\n",
      " N4              \t4           \t1.2         \t                \t;\n",
      " N11             \t6           \t1.5         \t                \t;\n",
      " N12             \t6           \t1.2         \t                \t;\n",
      " N15             \t5           \t0.89        \t                \t;\n",
      " N16             \t5           \t1.1         \t                \t;\n",
      "\n",
      "[RESERVOIRS]\n",
      ";ID              \tHead        \tPattern         \n",
      " Reservior       \t35          \t                \t;\n",
      "\n",
      "[TANKS]\n",
      ";ID              \tElevation   \tInitLevel   \tMinLevel    \tMaxLevel    \tDiameter    \tMinVol      \tVolCurve\n",
      "\n",
      "[PIPES]\n",
      ";ID              \tNode1           \tNode2           \tLength      \tDiameter    \tRoughness   \tMinorLoss   \tStatus\n",
      " P1              \tReservior       \tN1              \t1200        \t500         \t100         \t0           \tOpen  \t;\n",
      " P2              \tN1              \tN5              \t1000        \t400         \t100         \t0           \tOpen  \t;\n",
      " P8              \tN5              \tN10             \t1000        \t250         \t100         \t0           \tOpen  \t;\n",
      " P3              \tN1              \tN2              \t1000        \t400         \t100         \t0           \tOpen  \t;\n",
      " P6              \tN5              \tN6              \t1000        \t300         \t100         \t0           \tOpen  \t;\n",
      " P5              \tN2              \tN6              \t1000        \t300         \t100         \t0           \tOpen  \t;\n",
      " P4              \tN2              \tN3              \t1000        \t250         \t100         \t0           \tOpen  \t;\n",
      " P9              \tN3              \tN7              \t1000        \t250         \t0.25        \t0           \tOpen  \t;\n",
      " P7              \tN6              \tN7              \t1000        \t250         \t100         \t0           \tOpen  \t;\n",
      " P12             \tN13             \tN8              \t1200        \t250         \t25          \t0           \tOpen  \t;\n",
      " P13             \tN7              \tN8              \t1000        \t250         \t100         \t0           \tOpen  \t;\n",
      " P14             \tN3              \tN9              \t1000        \t200         \t100         \t0           \tOpen  \t;\n",
      " P15             \tN9              \tN8              \t1000        \t250         \t100         \t0           \tOpen  \t;\n",
      " P16             \tN3              \tN4              \t1000        \t150         \t100         \t0           \tOpen  \t;\n",
      " P17             \tN9              \tN14             \t1000        \t125         \t100         \t0           \tOpen  \t;\n",
      " P11             \tN10             \tN11             \t1000        \t150         \t100         \t0           \tOpen  \t;\n",
      " P18             \tN12             \tN13             \t1000        \t250         \t100         \t0           \tOpen  \t;\n",
      " P19             \tN15             \tN10             \t1000        \t250         \t100         \t0           \tOpen  \t;\n",
      " P10             \tN7              \tN16             \t500         \t250         \t100         \t0           \tOpen  \t;\n",
      "\n",
      "[PUMPS]\n",
      ";ID              \tNode1           \tNode2           \tParameters\n",
      "\n",
      "[VALVES]\n",
      ";ID              \tNode1           \tNode2           \tDiameter    \tType\tSetting     \tMinorLoss   \n",
      " V1              \tN16             \tN15             \t12          \tPRV \t0           \t0           \t;\n",
      "\n",
      "[TAGS]\n",
      "\n",
      "[DEMANDS]\n",
      ";Junction        \tDemand      \tPattern         \tCategory\n",
      "\n",
      "[STATUS]\n",
      ";ID              \tStatus/Setting\n",
      "\n",
      "[PATTERNS]\n",
      ";ID              \tMultipliers\n",
      "\n",
      "[CURVES]\n",
      ";ID              \tX-Value     \tY-Value\n",
      "\n",
      "[CONTROLS]\n",
      "\n",
      "[RULES]\n",
      "\n",
      "[ENERGY]\n",
      " Global Efficiency  \t75\n",
      " Global Price       \t0\n",
      " Demand Charge      \t0\n",
      "\n",
      "[EMITTERS]\n",
      ";Junction        \tCoefficient\n",
      " N6              \t0.5\n",
      "\n",
      "[QUALITY]\n",
      ";Node            \tInitQual\n",
      "\n",
      "[SOURCES]\n",
      ";Node            \tType        \tQuality     \tPattern\n",
      "\n",
      "[REACTIONS]\n",
      ";Type     \tPipe/Tank       \tCoefficient\n",
      "\n",
      "\n",
      "[REACTIONS]\n",
      " Order Bulk            \t1\n",
      " Order Tank            \t1\n",
      " Order Wall            \t1\n",
      " Global Bulk           \t0\n",
      " Global Wall           \t0\n",
      " Limiting Potential    \t0\n",
      " Roughness Correlation \t0\n",
      "\n",
      "[MIXING]\n",
      ";Tank            \tModel\n",
      "\n",
      "[TIMES]\n",
      " Duration           \t0\n",
      " Hydraulic Timestep \t1:00\n",
      " Quality Timestep   \t0:05\n",
      " Pattern Timestep   \t1:00\n",
      " Pattern Start      \t0:00\n",
      " Report Timestep    \t1:00\n",
      " Report Start       \t0:00\n",
      " Start ClockTime    \t12 am\n",
      " Statistic          \tNone\n",
      "\n",
      "[REPORT]\n",
      " Status             \tNo\n",
      " Summary            \tNo\n",
      " Page               \t0\n",
      "\n",
      "[OPTIONS]\n",
      " Units              \tLPS\n",
      " Headloss           \tH-W\n",
      " Specific Gravity   \t1\n",
      " Viscosity          \t1\n",
      " Trials             \t40\n",
      " Accuracy           \t0.001\n",
      " CHECKFREQ          \t2\n",
      " MAXCHECK           \t10\n",
      " DAMPLIMIT          \t0\n",
      " Unbalanced         \tContinue 10\n",
      " Pattern            \t1\n",
      " Demand Multiplier  \t1.0\n",
      " Emitter Exponent   \t0.5\n",
      " Quality            \tNone mg/L\n",
      " Diffusivity        \t1\n",
      " Tolerance          \t0.01\n",
      "\n",
      "[COORDINATES]\n",
      ";Node            \tX-Coord         \tY-Coord\n",
      " N1              \t461.54          \t7025.64         \n",
      " N5              \t512.82          \t5230.77         \n",
      " N10             \t2170.94         \t3470.09         \n",
      " N7              \t7282.05         \t5316.24         \n",
      " N2              \t3897.44         \t7025.64         \n",
      " N6              \t3880.34         \t5264.96         \n",
      " N3              \t9162.39         \t6991.45         \n",
      " N8              \t9401.71         \t5196.58         \n",
      " N13             \t8598.29         \t2632.48         \n",
      " N9              \t11846.15        \t6051.28         \n",
      " N14             \t10478.63        \t3042.74         \n",
      " N4              \t12102.56        \t7059.83         \n",
      " N11             \t-1042.74        \t2683.76         \n",
      " N12             \t10683.76        \t1931.62         \n",
      " N15             \t4393.16         \t3487.18         \n",
      " N16             \t6991.45         \t3504.27         \n",
      " Reservior       \t-2290.60        \t8803.42         \n",
      "\n",
      "[VERTICES]\n",
      ";Link            \tX-Coord         \tY-Coord\n",
      "\n",
      "[LABELS]\n",
      ";X-Coord           Y-Coord          Label & Anchor Node\n",
      "\n",
      "[BACKDROP]\n",
      " DIMENSIONS     \t0.00            \t0.00            \t10000.00        \t10000.00        \n",
      " UNITS          \tNone\n",
      " FILE           \t\n",
      " OFFSET         \t0.00            \t0.00            \n",
      "\n",
      "[END]\n",
      "\n"
     ]
    }
   ],
   "source": [
    "print(open('Real_Synthetic_Artificial_leak_N6.inp','r').read())"
   ]
  },
  {
   "cell_type": "code",
   "execution_count": 26,
   "id": "c3afadcc",
   "metadata": {
    "scrolled": false
   },
   "outputs": [
    {
     "data": {
      "text/plain": [
       "<AxesSubplot:title={'center':'Pressure at 0 hours'}>"
      ]
     },
     "execution_count": 26,
     "metadata": {},
     "output_type": "execute_result"
    },
    {
     "data": {
      "image/png": "[encoded data removed]",
      "text/plain": [
       "<Figure size 720x504 with 2 Axes>"
      ]
     },
     "metadata": {},
     "output_type": "display_data"
    }
   ],
   "source": [
    "wn = wntr.network.WaterNetworkModel('Real_Synthetic_Artificial_leak_N6.inp')\n",
    "sim = wntr.sim.WNTRSimulator(wn)\n",
    "junction = wn.get_node('N8') # Variable \"junction\" is associated to N8\n",
    "junction.demand_timeseries_list[0].base_value = 0 # Demand is changed in N8\n",
    "results = sim.run_sim()  # The new Epanet model is launched\n",
    "pressure_at_0hr = results.node['pressure'].loc[0, :]  # New pressures are stored\n",
    "\n",
    "plt.rcParams['figure.figsize'] = (10,7)\n",
    "wntr.graphics.plot_network(wn, node_attribute=pressure_at_0hr, node_size=50, title='Pressure at 0 hours')\n",
    "\n",
    "# (2) Adding an artificial leak\n",
    "\n",
    "# node = wn.get_node('N6')\n",
    "# node.add_leak(wn, area=0.5, start_time=0, end_time=0)\n",
    "# node.add_leak\n",
    "\n",
    "# leak_diameter = 1000.300*0.3\n",
    "# leak_area=3.14159*(leak_diameter/2)**2\n",
    "# leak_node = wn.get_node('N6')\n",
    "# leak_node.add_leak(wn, area=leak_area, start_time=0, end_time=0)"
   ]
  },
  {
   "cell_type": "code",
   "execution_count": 27,
   "id": "82ffcaba",
   "metadata": {},
   "outputs": [
    {
     "data": {
      "text/plain": [
       "24.473166541610077"
      ]
     },
     "execution_count": 27,
     "metadata": {},
     "output_type": "execute_result"
    }
   ],
   "source": [
    "results.node['pressure']['N5'][0]"
   ]
  },
  {
   "cell_type": "code",
   "execution_count": 28,
   "id": "76e7238c",
   "metadata": {},
   "outputs": [
    {
     "data": {
      "text/plain": [
       "24.473166541610077"
      ]
     },
     "execution_count": 28,
     "metadata": {},
     "output_type": "execute_result"
    }
   ],
   "source": [
    "results.node['pressure']['N5'][0]"
   ]
  },
  {
   "cell_type": "code",
   "execution_count": 29,
   "id": "47f24bde",
   "metadata": {},
   "outputs": [],
   "source": [
    "function_inputs = 2 #array save multiple things\n",
    "desired_output = 6 # Function output, the objective is to match the measured leak.\n",
    "\n",
    "# (2) Objective function definition:\n",
    "def fitness_func(solution, solution_idx): # Calculating the fitness value of each solution in the current population. \n",
    "    junction.demand_timeseries_list[0].base_value = function_inputs*solution[0] # The new demand is computed according to the demand multiplier and associated to N8\n",
    "    results = sim.run_sim() # Epanet is launched with the new input\n",
    "    velocity = results.node['pressure'] # Pressure results are stored\n",
    "    output = results.node['pressure']['N5'][0] # The temptative desired output is assigned\n",
    "    fitness = 1.0 / (numpy.abs(output - desired_output) + 0.000001)  # Fitness is computed. The value 0.000001 is used to avoid the Inf value when the denominator numpy.abs(output - desired_output) is 0.0.\n",
    "    return fitness\n",
    "fitness_function = fitness_func"
   ]
  },
  {
   "cell_type": "code",
   "execution_count": 30,
   "id": "f45700f6",
   "metadata": {},
   "outputs": [],
   "source": [
    "def fitness_func(solution, solution_idx):\n",
    "    output = numpy.sum(solution*function_inputs)\n",
    "    fitness = 1.0 / numpy.abs(output - desired_output)\n",
    "    return fitness"
   ]
  },
  {
   "cell_type": "code",
   "execution_count": 31,
   "id": "136bdfae",
   "metadata": {},
   "outputs": [],
   "source": [
    "num_generations = 100 # Number of generations.\n",
    "num_parents_mating = 2 # Number of solutions to be selected as parents in the mating pool.\n",
    "sol_per_pop = 30 # Number of solutions in the population.\n",
    "num_genes = 1#len(function_inputs) --> this can be an array\n",
    "init_range_low = 0\n",
    "init_range_high = 1\n",
    "parent_selection_type = \"sss\" # Type of parent selection.\n",
    "keep_parents = -1 # Number of parents to keep in the next population. -1 means keep all parents and 0 means keep nothing.\n",
    "crossover_type = \"single_point\" # Type of the crossover operator.\n",
    "mutation_type = \"random\" # Type of the mutation operator.\n",
    "mutation_percent_genes = 100 # Percentage of genes to mutate. This parameter has no action if the parameter mutation_num_genes exists or when mutation_type is None.\n",
    "last_fitness = 0"
   ]
  },
  {
   "cell_type": "code",
   "execution_count": 32,
   "id": "1adfd49a",
   "metadata": {
    "scrolled": true
   },
   "outputs": [
    {
     "ename": "KeyError",
     "evalue": "0",
     "output_type": "error",
     "traceback": [
      "\u001b[0;31m---------------------------------------------------------------------------\u001b[0m",
      "\u001b[0;31mKeyError\u001b[0m                                  Traceback (most recent call last)",
      "\u001b[0;32m/opt/anaconda3/lib/python3.8/site-packages/pandas/core/indexes/base.py\u001b[0m in \u001b[0;36mget_loc\u001b[0;34m(self, key, method, tolerance)\u001b[0m\n\u001b[1;32m   3079\u001b[0m             \u001b[0;32mtry\u001b[0m\u001b[0;34m:\u001b[0m\u001b[0;34m\u001b[0m\u001b[0;34m\u001b[0m\u001b[0m\n\u001b[0;32m-> 3080\u001b[0;31m                 \u001b[0;32mreturn\u001b[0m \u001b[0mself\u001b[0m\u001b[0;34m.\u001b[0m\u001b[0m_engine\u001b[0m\u001b[0;34m.\u001b[0m\u001b[0mget_loc\u001b[0m\u001b[0;34m(\u001b[0m\u001b[0mcasted_key\u001b[0m\u001b[0;34m)\u001b[0m\u001b[0;34m\u001b[0m\u001b[0;34m\u001b[0m\u001b[0m\n\u001b[0m\u001b[1;32m   3081\u001b[0m             \u001b[0;32mexcept\u001b[0m \u001b[0mKeyError\u001b[0m \u001b[0;32mas\u001b[0m \u001b[0merr\u001b[0m\u001b[0;34m:\u001b[0m\u001b[0;34m\u001b[0m\u001b[0;34m\u001b[0m\u001b[0m\n",
      "\u001b[0;32mpandas/_libs/index.pyx\u001b[0m in \u001b[0;36mpandas._libs.index.IndexEngine.get_loc\u001b[0;34m()\u001b[0m\n",
      "\u001b[0;32mpandas/_libs/index.pyx\u001b[0m in \u001b[0;36mpandas._libs.index.IndexEngine.get_loc\u001b[0;34m()\u001b[0m\n",
      "\u001b[0;32mpandas/_libs/hashtable_class_helper.pxi\u001b[0m in \u001b[0;36mpandas._libs.hashtable.Int64HashTable.get_item\u001b[0;34m()\u001b[0m\n",
      "\u001b[0;32mpandas/_libs/hashtable_class_helper.pxi\u001b[0m in \u001b[0;36mpandas._libs.hashtable.Int64HashTable.get_item\u001b[0;34m()\u001b[0m\n",
      "\u001b[0;31mKeyError\u001b[0m: 0",
      "\nThe above exception was the direct cause of the following exception:\n",
      "\u001b[0;31mKeyError\u001b[0m                                  Traceback (most recent call last)",
      "\u001b[0;32m/var/folders/zf/nmlxjncx1y1dzrhzmb_8dm700000gn/T/ipykernel_94095/2269759534.py\u001b[0m in \u001b[0;36m<module>\u001b[0;34m\u001b[0m\n\u001b[1;32m     23\u001b[0m \u001b[0;34m\u001b[0m\u001b[0m\n\u001b[1;32m     24\u001b[0m \u001b[0;31m# Running the GA to optimize the parameters of the function.\u001b[0m\u001b[0;34m\u001b[0m\u001b[0;34m\u001b[0m\u001b[0;34m\u001b[0m\u001b[0m\n\u001b[0;32m---> 25\u001b[0;31m \u001b[0mga_instance\u001b[0m\u001b[0;34m.\u001b[0m\u001b[0mrun\u001b[0m\u001b[0;34m(\u001b[0m\u001b[0;34m)\u001b[0m\u001b[0;34m\u001b[0m\u001b[0;34m\u001b[0m\u001b[0m\n\u001b[0m",
      "\u001b[0;32m/opt/anaconda3/lib/python3.8/site-packages/pygad/pygad.py\u001b[0m in \u001b[0;36mrun\u001b[0;34m(self)\u001b[0m\n\u001b[1;32m   1190\u001b[0m \u001b[0;34m\u001b[0m\u001b[0m\n\u001b[1;32m   1191\u001b[0m         \u001b[0;31m# Measuring the fitness of each chromosome in the population. Save the fitness in the last_generation_fitness attribute.\u001b[0m\u001b[0;34m\u001b[0m\u001b[0;34m\u001b[0m\u001b[0;34m\u001b[0m\u001b[0m\n\u001b[0;32m-> 1192\u001b[0;31m         \u001b[0mself\u001b[0m\u001b[0;34m.\u001b[0m\u001b[0mlast_generation_fitness\u001b[0m \u001b[0;34m=\u001b[0m \u001b[0mself\u001b[0m\u001b[0;34m.\u001b[0m\u001b[0mcal_pop_fitness\u001b[0m\u001b[0;34m(\u001b[0m\u001b[0;34m)\u001b[0m\u001b[0;34m\u001b[0m\u001b[0;34m\u001b[0m\u001b[0m\n\u001b[0m\u001b[1;32m   1193\u001b[0m \u001b[0;34m\u001b[0m\u001b[0m\n\u001b[1;32m   1194\u001b[0m         \u001b[0mbest_solution\u001b[0m\u001b[0;34m,\u001b[0m \u001b[0mbest_solution_fitness\u001b[0m\u001b[0;34m,\u001b[0m \u001b[0mbest_match_idx\u001b[0m \u001b[0;34m=\u001b[0m \u001b[0mself\u001b[0m\u001b[0;34m.\u001b[0m\u001b[0mbest_solution\u001b[0m\u001b[0;34m(\u001b[0m\u001b[0mpop_fitness\u001b[0m\u001b[0;34m=\u001b[0m\u001b[0mself\u001b[0m\u001b[0;34m.\u001b[0m\u001b[0mlast_generation_fitness\u001b[0m\u001b[0;34m)\u001b[0m\u001b[0;34m\u001b[0m\u001b[0;34m\u001b[0m\u001b[0m\n",
      "\u001b[0;32m/opt/anaconda3/lib/python3.8/site-packages/pygad/pygad.py\u001b[0m in \u001b[0;36mcal_pop_fitness\u001b[0;34m(self)\u001b[0m\n\u001b[1;32m   1157\u001b[0m                 \u001b[0mfitness\u001b[0m \u001b[0;34m=\u001b[0m \u001b[0mself\u001b[0m\u001b[0;34m.\u001b[0m\u001b[0mprevious_generation_fitness\u001b[0m\u001b[0;34m[\u001b[0m\u001b[0mparent_idx\u001b[0m\u001b[0;34m]\u001b[0m\u001b[0;34m\u001b[0m\u001b[0;34m\u001b[0m\u001b[0m\n\u001b[1;32m   1158\u001b[0m             \u001b[0;32melse\u001b[0m\u001b[0;34m:\u001b[0m\u001b[0;34m\u001b[0m\u001b[0;34m\u001b[0m\u001b[0m\n\u001b[0;32m-> 1159\u001b[0;31m                 \u001b[0mfitness\u001b[0m \u001b[0;34m=\u001b[0m \u001b[0mself\u001b[0m\u001b[0;34m.\u001b[0m\u001b[0mfitness_func\u001b[0m\u001b[0;34m(\u001b[0m\u001b[0msol\u001b[0m\u001b[0;34m,\u001b[0m \u001b[0msol_idx\u001b[0m\u001b[0;34m)\u001b[0m\u001b[0;34m\u001b[0m\u001b[0;34m\u001b[0m\u001b[0m\n\u001b[0m\u001b[1;32m   1160\u001b[0m                 \u001b[0;32mif\u001b[0m \u001b[0mtype\u001b[0m\u001b[0;34m(\u001b[0m\u001b[0mfitness\u001b[0m\u001b[0;34m)\u001b[0m \u001b[0;32min\u001b[0m \u001b[0mGA\u001b[0m\u001b[0;34m.\u001b[0m\u001b[0msupported_int_float_types\u001b[0m\u001b[0;34m:\u001b[0m\u001b[0;34m\u001b[0m\u001b[0;34m\u001b[0m\u001b[0m\n\u001b[1;32m   1161\u001b[0m                     \u001b[0;32mpass\u001b[0m\u001b[0;34m\u001b[0m\u001b[0;34m\u001b[0m\u001b[0m\n",
      "\u001b[0;32m/var/folders/zf/nmlxjncx1y1dzrhzmb_8dm700000gn/T/ipykernel_94095/4223376514.py\u001b[0m in \u001b[0;36mfitness_func\u001b[0;34m(solution, solution_idx)\u001b[0m\n\u001b[1;32m      7\u001b[0m     \u001b[0mresults\u001b[0m \u001b[0;34m=\u001b[0m \u001b[0msim\u001b[0m\u001b[0;34m.\u001b[0m\u001b[0mrun_sim\u001b[0m\u001b[0;34m(\u001b[0m\u001b[0;34m)\u001b[0m \u001b[0;31m# Epanet is launched with the new input\u001b[0m\u001b[0;34m\u001b[0m\u001b[0;34m\u001b[0m\u001b[0m\n\u001b[1;32m      8\u001b[0m     \u001b[0mvelocity\u001b[0m \u001b[0;34m=\u001b[0m \u001b[0mresults\u001b[0m\u001b[0;34m.\u001b[0m\u001b[0mnode\u001b[0m\u001b[0;34m[\u001b[0m\u001b[0;34m'pressure'\u001b[0m\u001b[0;34m]\u001b[0m \u001b[0;31m# Pressure results are stored\u001b[0m\u001b[0;34m\u001b[0m\u001b[0;34m\u001b[0m\u001b[0m\n\u001b[0;32m----> 9\u001b[0;31m     \u001b[0moutput\u001b[0m \u001b[0;34m=\u001b[0m \u001b[0mresults\u001b[0m\u001b[0;34m.\u001b[0m\u001b[0mnode\u001b[0m\u001b[0;34m[\u001b[0m\u001b[0;34m'pressure'\u001b[0m\u001b[0;34m]\u001b[0m\u001b[0;34m[\u001b[0m\u001b[0;34m'N5'\u001b[0m\u001b[0;34m]\u001b[0m\u001b[0;34m[\u001b[0m\u001b[0;36m0\u001b[0m\u001b[0;34m]\u001b[0m \u001b[0;31m# The temptative desired output is assigned\u001b[0m\u001b[0;34m\u001b[0m\u001b[0;34m\u001b[0m\u001b[0m\n\u001b[0m\u001b[1;32m     10\u001b[0m     \u001b[0mfitness\u001b[0m \u001b[0;34m=\u001b[0m \u001b[0;36m1.0\u001b[0m \u001b[0;34m/\u001b[0m \u001b[0;34m(\u001b[0m\u001b[0mnumpy\u001b[0m\u001b[0;34m.\u001b[0m\u001b[0mabs\u001b[0m\u001b[0;34m(\u001b[0m\u001b[0moutput\u001b[0m \u001b[0;34m-\u001b[0m \u001b[0mdesired_output\u001b[0m\u001b[0;34m)\u001b[0m \u001b[0;34m+\u001b[0m \u001b[0;36m0.000001\u001b[0m\u001b[0;34m)\u001b[0m  \u001b[0;31m# Fitness is computed. The value 0.000001 is used to avoid the Inf value when the denominator numpy.abs(output - desired_output) is 0.0.\u001b[0m\u001b[0;34m\u001b[0m\u001b[0;34m\u001b[0m\u001b[0m\n\u001b[1;32m     11\u001b[0m     \u001b[0;32mreturn\u001b[0m \u001b[0mfitness\u001b[0m\u001b[0;34m\u001b[0m\u001b[0;34m\u001b[0m\u001b[0m\n",
      "\u001b[0;32m/opt/anaconda3/lib/python3.8/site-packages/pandas/core/series.py\u001b[0m in \u001b[0;36m__getitem__\u001b[0;34m(self, key)\u001b[0m\n\u001b[1;32m    851\u001b[0m \u001b[0;34m\u001b[0m\u001b[0m\n\u001b[1;32m    852\u001b[0m         \u001b[0;32melif\u001b[0m \u001b[0mkey_is_scalar\u001b[0m\u001b[0;34m:\u001b[0m\u001b[0;34m\u001b[0m\u001b[0;34m\u001b[0m\u001b[0m\n\u001b[0;32m--> 853\u001b[0;31m             \u001b[0;32mreturn\u001b[0m \u001b[0mself\u001b[0m\u001b[0;34m.\u001b[0m\u001b[0m_get_value\u001b[0m\u001b[0;34m(\u001b[0m\u001b[0mkey\u001b[0m\u001b[0;34m)\u001b[0m\u001b[0;34m\u001b[0m\u001b[0;34m\u001b[0m\u001b[0m\n\u001b[0m\u001b[1;32m    854\u001b[0m \u001b[0;34m\u001b[0m\u001b[0m\n\u001b[1;32m    855\u001b[0m         \u001b[0;32mif\u001b[0m \u001b[0mis_hashable\u001b[0m\u001b[0;34m(\u001b[0m\u001b[0mkey\u001b[0m\u001b[0;34m)\u001b[0m\u001b[0;34m:\u001b[0m\u001b[0;34m\u001b[0m\u001b[0;34m\u001b[0m\u001b[0m\n",
      "\u001b[0;32m/opt/anaconda3/lib/python3.8/site-packages/pandas/core/series.py\u001b[0m in \u001b[0;36m_get_value\u001b[0;34m(self, label, takeable)\u001b[0m\n\u001b[1;32m    959\u001b[0m \u001b[0;34m\u001b[0m\u001b[0m\n\u001b[1;32m    960\u001b[0m         \u001b[0;31m# Similar to Index.get_value, but we do not fall back to positional\u001b[0m\u001b[0;34m\u001b[0m\u001b[0;34m\u001b[0m\u001b[0;34m\u001b[0m\u001b[0m\n\u001b[0;32m--> 961\u001b[0;31m         \u001b[0mloc\u001b[0m \u001b[0;34m=\u001b[0m \u001b[0mself\u001b[0m\u001b[0;34m.\u001b[0m\u001b[0mindex\u001b[0m\u001b[0;34m.\u001b[0m\u001b[0mget_loc\u001b[0m\u001b[0;34m(\u001b[0m\u001b[0mlabel\u001b[0m\u001b[0;34m)\u001b[0m\u001b[0;34m\u001b[0m\u001b[0;34m\u001b[0m\u001b[0m\n\u001b[0m\u001b[1;32m    962\u001b[0m         \u001b[0;32mreturn\u001b[0m \u001b[0mself\u001b[0m\u001b[0;34m.\u001b[0m\u001b[0mindex\u001b[0m\u001b[0;34m.\u001b[0m\u001b[0m_get_values_for_loc\u001b[0m\u001b[0;34m(\u001b[0m\u001b[0mself\u001b[0m\u001b[0;34m,\u001b[0m \u001b[0mloc\u001b[0m\u001b[0;34m,\u001b[0m \u001b[0mlabel\u001b[0m\u001b[0;34m)\u001b[0m\u001b[0;34m\u001b[0m\u001b[0;34m\u001b[0m\u001b[0m\n\u001b[1;32m    963\u001b[0m \u001b[0;34m\u001b[0m\u001b[0m\n",
      "\u001b[0;32m/opt/anaconda3/lib/python3.8/site-packages/pandas/core/indexes/base.py\u001b[0m in \u001b[0;36mget_loc\u001b[0;34m(self, key, method, tolerance)\u001b[0m\n\u001b[1;32m   3080\u001b[0m                 \u001b[0;32mreturn\u001b[0m \u001b[0mself\u001b[0m\u001b[0;34m.\u001b[0m\u001b[0m_engine\u001b[0m\u001b[0;34m.\u001b[0m\u001b[0mget_loc\u001b[0m\u001b[0;34m(\u001b[0m\u001b[0mcasted_key\u001b[0m\u001b[0;34m)\u001b[0m\u001b[0;34m\u001b[0m\u001b[0;34m\u001b[0m\u001b[0m\n\u001b[1;32m   3081\u001b[0m             \u001b[0;32mexcept\u001b[0m \u001b[0mKeyError\u001b[0m \u001b[0;32mas\u001b[0m \u001b[0merr\u001b[0m\u001b[0;34m:\u001b[0m\u001b[0;34m\u001b[0m\u001b[0;34m\u001b[0m\u001b[0m\n\u001b[0;32m-> 3082\u001b[0;31m                 \u001b[0;32mraise\u001b[0m \u001b[0mKeyError\u001b[0m\u001b[0;34m(\u001b[0m\u001b[0mkey\u001b[0m\u001b[0;34m)\u001b[0m \u001b[0;32mfrom\u001b[0m \u001b[0merr\u001b[0m\u001b[0;34m\u001b[0m\u001b[0;34m\u001b[0m\u001b[0m\n\u001b[0m\u001b[1;32m   3083\u001b[0m \u001b[0;34m\u001b[0m\u001b[0m\n\u001b[1;32m   3084\u001b[0m         \u001b[0;32mif\u001b[0m \u001b[0mtolerance\u001b[0m \u001b[0;32mis\u001b[0m \u001b[0;32mnot\u001b[0m \u001b[0;32mNone\u001b[0m\u001b[0;34m:\u001b[0m\u001b[0;34m\u001b[0m\u001b[0;34m\u001b[0m\u001b[0m\n",
      "\u001b[0;31mKeyError\u001b[0m: 0"
     ]
    }
   ],
   "source": [
    "def callback_generation(ga_instance): # This function prints algorithm progress\n",
    "    global last_fitness\n",
    "    print(\"Generation = {generation}\".format(generation=ga_instance.generations_completed))\n",
    "    print(\"Fitness    = {fitness}\".format(fitness=ga_instance.best_solution()[1]))\n",
    "    print(\"Change     = {change}\".format(change=ga_instance.best_solution()[1] - last_fitness))\n",
    "    last_fitness = ga_instance.best_solution()[1]\n",
    "\n",
    "# Creating an instance of the GA class inside the ga module. Some parameters are initialized within the constructor.\n",
    "ga_instance = pygad.GA(num_generations=num_generations,\n",
    "                       num_parents_mating=num_parents_mating,\n",
    "                       fitness_func=fitness_function,\n",
    "                       sol_per_pop=sol_per_pop,\n",
    "                       num_genes=num_genes,\n",
    "                       init_range_low=init_range_low,\n",
    "                       init_range_high=init_range_high,\n",
    "                       parent_selection_type=parent_selection_type,\n",
    "                       keep_parents=keep_parents,\n",
    "                       crossover_type=crossover_type,\n",
    "                       mutation_type=mutation_type,\n",
    "                       mutation_percent_genes=mutation_percent_genes,\n",
    "#                        callback_generation=callback_generation\n",
    "                      )\n",
    "\n",
    "# Running the GA to optimize the parameters of the function.\n",
    "ga_instance.run()"
   ]
  },
  {
   "cell_type": "code",
   "execution_count": 103,
   "id": "9876759f",
   "metadata": {},
   "outputs": [
    {
     "name": "stderr",
     "output_type": "stream",
     "text": [
      "/opt/anaconda3/lib/python3.8/site-packages/pygad/pygad.py:3142: UserWarning: Please use the plot_fitness() method instead of plot_result(). The plot_result() method will be removed in the future.\n",
      "  warnings.warn(\"Please use the plot_fitness() method instead of plot_result(). The plot_result() method will be removed in the future.\")\n"
     ]
    },
    {
     "data": {
      "image/png": "[encoded data removed]",
      "text/plain": [
       "<Figure size 720x504 with 1 Axes>"
      ]
     },
     "metadata": {
      "needs_background": "light"
     },
     "output_type": "display_data"
    },
    {
     "name": "stdout",
     "output_type": "stream",
     "text": [
      "Parameters of the best solution : [0.174]\n",
      "Fitness value of the best solution = 15.865268061107367\n",
      "Index of the best solution : 0\n"
     ]
    }
   ],
   "source": [
    "# (5) GA results are plotted:\n",
    "# After the generations complete, some plots are showed that summarize the how the outputs/fitenss values evolve over generations.\n",
    "ga_instance.plot_result()\n",
    "# Returning the details of the best solution.\n",
    "solution, solution_fitness, solution_idx = ga_instance.best_solution()\n",
    "print(\"Parameters of the best solution : {solution}\".format(solution=solution))\n",
    "print(\"Fitness value of the best solution = {solution_fitness}\".format(solution_fitness=solution_fitness))\n",
    "print(\"Index of the best solution : {solution_idx}\".format(solution_idx=solution_idx))"
   ]
  },
  {
   "cell_type": "code",
   "execution_count": 123,
   "id": "d05297d9",
   "metadata": {},
   "outputs": [
    {
     "name": "stderr",
     "output_type": "stream",
     "text": [
      "/opt/anaconda3/lib/python3.8/site-packages/pygad/pygad.py:3142: UserWarning: Please use the plot_fitness() method instead of plot_result(). The plot_result() method will be removed in the future.\n",
      "  warnings.warn(\"Please use the plot_fitness() method instead of plot_result(). The plot_result() method will be removed in the future.\")\n"
     ]
    },
    {
     "data": {
      "image/png": "[encoded data removed]",
      "text/plain": [
       "<Figure size 720x504 with 1 Axes>"
      ]
     },
     "metadata": {
      "needs_background": "light"
     },
     "output_type": "display_data"
    },
    {
     "name": "stdout",
     "output_type": "stream",
     "text": [
      "Parameters of the best solution : [0.001]\n",
      "Fitness value of the best solution = 56.87485353766249\n",
      "Index of the best solution : 0\n"
     ]
    }
   ],
   "source": [
    "# (5) GA results are plotted:\n",
    "# After the generations complete, some plots are showed that summarize the how the outputs/fitenss values evolve over generations.\n",
    "ga_instance.plot_result()\n",
    "# Returning the details of the best solution.\n",
    "solution, solution_fitness, solution_idx = ga_instance.best_solution()\n",
    "print(\"Parameters of the best solution : {solution}\".format(solution=solution))\n",
    "print(\"Fitness value of the best solution = {solution_fitness}\".format(solution_fitness=solution_fitness))\n",
    "print(\"Index of the best solution : {solution_idx}\".format(solution_idx=solution_idx))"
   ]
  },
  {
   "cell_type": "code",
   "execution_count": 105,
   "id": "200370b8",
   "metadata": {},
   "outputs": [
    {
     "name": "stdout",
     "output_type": "stream",
     "text": [
      "-561.6371\n"
     ]
    }
   ],
   "source": [
    "\n",
    "# (6) The solution is confirmed launching Epanet:\n",
    "# Change a parameter value (demand at N8) and run the model again\n",
    "junction = wn.get_node('N7')\n",
    "junction.demand_timeseries_list[0].base_value = function_inputs*solution[0]\n",
    "results = sim.run_sim()\n",
    "# Get and print the new pressure\n",
    "pressure = results.node['pressure']\n",
    "pressure_at_N7 = pressure['N7'][0]\n",
    "print(pressure_at_N7)"
   ]
  },
  {
   "cell_type": "code",
   "execution_count": null,
   "id": "60a39504",
   "metadata": {},
   "outputs": [],
   "source": [
    "# Data Generation from EPANET => 30 DAYS OBSERVATION\n",
    "# Formular for estimating leakages in a network"
   ]
  },
  {
   "cell_type": "code",
   "execution_count": null,
   "id": "66ef6e9f",
   "metadata": {},
   "outputs": [],
   "source": []
  },
  {
   "cell_type": "code",
   "execution_count": null,
   "id": "9ff30f6f",
   "metadata": {},
   "outputs": [],
   "source": []
  },
  {
   "cell_type": "code",
   "execution_count": null,
   "id": "ab68ae12",
   "metadata": {},
   "outputs": [],
   "source": []
  },
  {
   "cell_type": "code",
   "execution_count": null,
   "id": "96159098",
   "metadata": {},
   "outputs": [],
   "source": []
  },
  {
   "cell_type": "code",
   "execution_count": null,
   "id": "02694056",
   "metadata": {},
   "outputs": [],
   "source": []
  },
  {
   "cell_type": "code",
   "execution_count": null,
   "id": "136d643b",
   "metadata": {},
   "outputs": [],
   "source": []
  },
  {
   "cell_type": "markdown",
   "id": "d934ecb0",
   "metadata": {},
   "source": [
    "**Project:** Optimizing Travel Itineraries With Machine Learning\n",
    "\n",
    "**Presentation.** Presentation can be found [here](https://github.com/vlazovskiy/route-optimizer-machine-learning/blob/master/Itinerary%20Optimization%20With%20Machine%20Learning.pdf).\n",
    "\n",
    "**Project goal.** The goal of my project is to optimize travel routes for a delivery vehicle by using machine learning model predictions. This is a two-component problem: first, I train a machine learning model on the data to predict how long it will take a delivery vehicle to go from point one point to another, and I feed these predictions into a genetic algorithm which decides which is the most time efficient visit order for a given set of points. \n",
    "\n",
    "Here is an illustration of my pipeline: data -> machine learning -> optimization with genetic algorithm\n",
    "\n",
    "<img width=\"630\" alt=\"screen shot 2018-04-12 at 2 03 39 am\" src=\"https://user-images.githubusercontent.com/32041665/38667230-bec5a5e0-3df5-11e8-908d-4664963cb217.png\">\n",
    "\n",
    "**Data and Features.** New York City taxi data set was taken from [here](http://www.nyc.gov/html/tlc/html/about/trip_record_data.shtml), with an additional New York City weather dataset obtained from [Kaggle](https://www.kaggle.com/cabaki/knycmetars2016).\n",
    "\n",
    "**Models.** After doing a quick baselining with a basic linear regression on the main dataset I realized that a far more complex model was needed. To this end, I selected an XGBoost model to accommodate for my complex numeric and categorical features. I also used a LightGBM model when adding weather data because this package can handle categorical data and runs faster, but I used this model mostly for experimentation with features and did not include in my final pipeline.\n",
    "\n",
    "**Optimization.** For any given set of locations, these location are fed to the machine learning model, which predicts how long it will take to travel between each two given points. Then the algorithm \"evolves\" to find the visit order which minimizes time spent in transit. \n",
    "\n",
    "**Results.** The XGBoost model had an error of 4.8 minutes in estimating a single trip's duration for a motor vehicle. While this may seem acceptable for one trip, the error may get bigger the more locations are visited. The genetic algorithm itself is fairly straightforward, but it must be noted that every genetic algorithm gives an optimal approximation, but not the single best solution there is.\n",
    "\n",
    "**Acknowledgements.** Big thanks to [this notebook](https://github.com/ZWMiller/PythonProjects/blob/master/genetic_algorithms/evolutionary_algorithm_traveling_salesman.ipynb) for providing the code for the genetic algorithm and making it accessible.\n",
    "\n",
    "**NOTE.** The original presentation contains a short video demo, which is unavailable in the pdf format.\n"
   ]
  },
  {
   "cell_type": "code",
   "execution_count": null,
   "id": "2982f67a",
   "metadata": {},
   "outputs": [],
   "source": []
  }
 ],
 "metadata": {
  "kernelspec": {
   "display_name": "Python 3 (ipykernel)",
   "language": "python",
   "name": "python3"
  },
  "language_info": {
   "codemirror_mode": {
    "name": "ipython",
    "version": 3
   },
   "file_extension": ".py",
   "mimetype": "text/x-python",
   "name": "python",
   "nbconvert_exporter": "python",
   "pygments_lexer": "ipython3",
   "version": "3.8.8"
  }
 },
 "nbformat": 4,
 "nbformat_minor": 5
}
