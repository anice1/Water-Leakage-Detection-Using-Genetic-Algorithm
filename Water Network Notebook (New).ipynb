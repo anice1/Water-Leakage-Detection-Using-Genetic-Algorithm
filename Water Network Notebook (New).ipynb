{
 "cells": [
  {
   "cell_type": "markdown",
   "id": "9a3661cb",
   "metadata": {},
   "source": [
    "## Adopted Optimization Methodology\n",
    "\n",
    "\n",
    "Genetic algorithm (GA) or Evolutionary algorithm was picked as a suitable choice for this problem. \n",
    "\n",
    "There are three (3) major operations in GA: \n",
    "* Selection \n",
    "* Cross-over (Combination) and\n",
    "* Mutation (Change)\n",
    "\n",
    "In our proposed method, a stochastic search is begun by creating a number of solution strings named **“Initial Population” and fitnesses** for strings are evaluated using Equation.\n",
    "\n",
    "To produce the next generation, strings are randomly chosen from the initial population based on their fitnesses, and then cross-over and mutation are operated on the strings. Crossover is responsible for transition the parent’s traits to their child. The mutation randomly changes a string to recover new traits. In the GA, population evolves after a number of generations and can attain the optimal solution. Up to now, many approaches are presented based on general principles of GA.\n",
    "\n",
    "<!-- ## Adopted Step by Step Elimination Method -->\n",
    "<!-- **Source:** https://www.scirp.org/pdf/JWARP_2013032510150088.pdf -->\n",
    "<!-- <img src='flowchart.jpg' width=400, height=400> -->"
   ]
  },
  {
   "cell_type": "markdown",
   "id": "724b48b1",
   "metadata": {},
   "source": [
    "## Import and plot an EPANET model\n"
   ]
  },
  {
   "cell_type": "code",
   "execution_count": 10,
   "id": "2d432808",
   "metadata": {},
   "outputs": [],
   "source": [
    "import wntr\n",
    "import pygad\n",
    "import numpy as np\n",
    "import matplotlib.pyplot as plt\n",
    "import numpy"
   ]
  },
  {
   "cell_type": "markdown",
   "id": "63a02dc2",
   "metadata": {},
   "source": [
    "## Load our network into Python"
   ]
  },
  {
   "cell_type": "code",
   "execution_count": 2,
   "id": "fd9a1428",
   "metadata": {},
   "outputs": [
    {
     "data": {
      "text/plain": [
       "<bound method Junction.add_leak of <Junction 'N6', elevation=7.0, demand_timeseries_list=<Demands: [<TimeSeries: base_value=0.0101, pattern_name=None, category='None'>]>>>"
      ]
     },
     "execution_count": 2,
     "metadata": {},
     "output_type": "execute_result"
    }
   ],
   "source": [
    "wn = wntr.network.WaterNetworkModel('Real_Synthetic_Net.inp')  \n",
    "\n",
    "# Add an artificial leak to Nodes (6,8 and 10)\n",
    "node = wn.get_node('N6')\n",
    "node.add_leak(wn, area=0.00015, start_time=0, end_time=1)\n",
    "node.add_leak\n",
    "\n",
    "# node = wn.get_node('N8')\n",
    "# node.add_leak(wn, area=0.00015, start_time=0, end_time=1)\n",
    "# node.add_leak\n",
    "\n",
    "# node = wn.get_node('N10')\n",
    "# node.add_leak(wn, area=0.00015, start_time=0, end_time=1)\n",
    "# node.add_leak"
   ]
  },
  {
   "cell_type": "markdown",
   "id": "cbd7c113",
   "metadata": {},
   "source": [
    "## Launch network and plot results"
   ]
  },
  {
   "cell_type": "code",
   "execution_count": 3,
   "id": "9d95acbf",
   "metadata": {},
   "outputs": [],
   "source": [
    "# Launch simulation:\n",
    "sim = wntr.sim.WNTRSimulator(wn)\n",
    "\n",
    "# store the simulation results in variable \"results\"\n",
    "results = sim.run_sim()\n",
    "\n",
    "# Plot results on the network:\n",
    "pressure_at_0hr = results.node['pressure'] # pressures at time-step 0 are stored\n",
    "# wntr.graphics.plot_network(wn, node_attribute=None, node_size=150, title='Pressure at 0 hours')\n",
    "\n",
    "# print (pressure_at_0hr)"
   ]
  },
  {
   "cell_type": "markdown",
   "id": "7ad24d0e",
   "metadata": {},
   "source": [
    "### Change parameter value"
   ]
  },
  {
   "cell_type": "code",
   "execution_count": 4,
   "id": "7f8a3f46",
   "metadata": {},
   "outputs": [
    {
     "data": {
      "text/plain": [
       "<wntr.sim.results.SimulationResults at 0x7f9d1bd86dc0>"
      ]
     },
     "execution_count": 4,
     "metadata": {},
     "output_type": "execute_result"
    }
   ],
   "source": [
    "# Variable \"junction\" is associated to N8\n",
    "junction = wn.get_node('N6')\n",
    "\n",
    "# Demand is changed in N8\n",
    "junction.demand_timeseries_list[0].base_value = 0 \n",
    "\n",
    "# The new Epanet model is launched\n",
    "results = sim.run_sim() \n",
    "\n",
    "# New pressures are stored\n",
    "pressure_at_0hr = results.node['pressure'] \n",
    "#wntr.graphics.plot_network(wn, node_attribute=pressure_at_0hr, node_size=50, title='Pressure at 0 hours')\n",
    "results"
   ]
  },
  {
   "cell_type": "markdown",
   "id": "985ff918",
   "metadata": {},
   "source": [
    "## Optimization\n"
   ]
  },
  {
   "cell_type": "code",
   "execution_count": 15,
   "id": "3b086f70",
   "metadata": {},
   "outputs": [],
   "source": [
    "function_inputs = 1 #array save multiple things\n",
    "desired_output = 26.5 # Function output, the objective is to match the measured leak.\n",
    "\n",
    "def fitness_func(solution, solution_idx):\n",
    "    output = numpy.sum(solution*function_inputs)\n",
    "    fitness = 1.0 / numpy.abs(output - desired_output)\n",
    "    return fitness"
   ]
  },
  {
   "cell_type": "markdown",
   "id": "083e4b87",
   "metadata": {},
   "source": [
    "### Optimization setup"
   ]
  },
  {
   "cell_type": "code",
   "execution_count": 16,
   "id": "8f7cd2bc",
   "metadata": {},
   "outputs": [],
   "source": [
    "num_generations = 100 # Number of generations.\n",
    "num_parents_mating = 2 # Number of solutions to be selected as parents in the mating pool.\n",
    "sol_per_pop = 30 # Number of solutions in the population.\n",
    "num_genes = 1 #len(function_inputs) --> this can be an array\n",
    "init_range_low = 0\n",
    "init_range_high = 1\n",
    "parent_selection_type = \"sss\" # Type of parent selection.\n",
    "keep_parents = -1 # Number of parents to keep in the next population. -1 means keep all parents and 0 means keep nothing.\n",
    "crossover_type = \"single_point\" # Type of the crossover operator.\n",
    "mutation_type = \"random\" # Type of the mutation operator.\n",
    "mutation_percent_genes = 100 # Percentage of genes to mutate. This parameter has no action if the parameter mutation_num_genes exists or when mutation_type is None.\n",
    "last_fitness = 0"
   ]
  },
  {
   "cell_type": "markdown",
   "id": "e4ad496f",
   "metadata": {},
   "source": [
    "### Create GA instance and run"
   ]
  },
  {
   "cell_type": "code",
   "execution_count": 47,
   "id": "1b4523ab",
   "metadata": {},
   "outputs": [],
   "source": [
    "def callback_generation(ga_instance): # This function prints algorithm progress\n",
    "    global last_fitness\n",
    "    print(\"Generation = {generation}\".format(generation=ga_instance.generations_completed))\n",
    "    print(\"Fitness    = {fitness}\".format(fitness=ga_instance.best_solution()[1]))\n",
    "    print(\"Change     = {change}\".format(change=ga_instance.best_solution()[1] - last_fitness))\n",
    "    last_fitness = ga_instance.best_solution()[1]"
   ]
  },
  {
   "cell_type": "code",
   "execution_count": 48,
   "id": "badc479f",
   "metadata": {},
   "outputs": [],
   "source": [
    "# Creating an instance of the GA class inside the ga module. Some parameters are initialized within the constructor.\n",
    "ga_instance = pygad.GA(num_generations=num_generations,\n",
    "                       num_parents_mating=num_parents_mating,\n",
    "                       fitness_func=fitness_func,\n",
    "                       sol_per_pop=sol_per_pop,\n",
    "                       num_genes=num_genes,\n",
    "                       init_range_low=init_range_low,\n",
    "                       init_range_high=init_range_high,\n",
    "                       parent_selection_type=parent_selection_type,\n",
    "                       keep_parents=keep_parents,\n",
    "                       crossover_type=crossover_type,\n",
    "                       mutation_type=mutation_type,\n",
    "                       mutation_percent_genes=mutation_percent_genes,\n",
    "                       callback_generation=callback_generation\n",
    "                      )"
   ]
  },
  {
   "cell_type": "markdown",
   "id": "c3ea1cf9",
   "metadata": {},
   "source": [
    "### Running the GA to optimize the parameters of the function."
   ]
  },
  {
   "cell_type": "code",
   "execution_count": 49,
   "id": "462221fe",
   "metadata": {
    "scrolled": true
   },
   "outputs": [
    {
     "name": "stdout",
     "output_type": "stream",
     "text": [
      "Generation = 1\n",
      "Fitness    = 0.04020637241882768\n",
      "Change     = -4518.805347301547\n",
      "Generation = 2\n",
      "Fitness    = 0.0416966918016909\n",
      "Change     = 0.0014903193828632241\n",
      "Generation = 3\n",
      "Fitness    = 0.04343282242791714\n",
      "Change     = 0.00173613062622624\n",
      "Generation = 4\n",
      "Fitness    = 0.04509257649867779\n",
      "Change     = 0.0016597540707606467\n",
      "Generation = 5\n",
      "Fitness    = 0.047184610807637965\n",
      "Change     = 0.0020920343089601764\n",
      "Generation = 6\n",
      "Fitness    = 0.049460906304505704\n",
      "Change     = 0.002276295496867739\n",
      "Generation = 7\n",
      "Fitness    = 0.051959836167485715\n",
      "Change     = 0.002498929862980011\n",
      "Generation = 8\n",
      "Fitness    = 0.05475619978742517\n",
      "Change     = 0.002796363619939457\n",
      "Generation = 9\n",
      "Fitness    = 0.05684363373667992\n",
      "Change     = 0.002087433949254751\n",
      "Generation = 10\n",
      "Fitness    = 0.060237954895339174\n",
      "Change     = 0.003394321158659251\n",
      "Generation = 11\n",
      "Fitness    = 0.06400081402348014\n",
      "Change     = 0.0037628591281409635\n",
      "Generation = 12\n",
      "Fitness    = 0.06788637946188934\n",
      "Change     = 0.0038855654384092053\n",
      "Generation = 13\n",
      "Fitness    = 0.07237354955224745\n",
      "Change     = 0.0044871700903581085\n",
      "Generation = 14\n",
      "Fitness    = 0.07771166787376216\n",
      "Change     = 0.0053381183215147066\n",
      "Generation = 15\n",
      "Fitness    = 0.08336282680428324\n",
      "Change     = 0.00565115893052108\n",
      "Generation = 16\n",
      "Fitness    = 0.09012909734993611\n",
      "Change     = 0.006766270545652875\n",
      "Generation = 17\n",
      "Fitness    = 0.09838491172397798\n",
      "Change     = 0.008255814374041867\n",
      "Generation = 18\n",
      "Fitness    = 0.10910790456774762\n",
      "Change     = 0.010722992843769638\n",
      "Generation = 19\n",
      "Fitness    = 0.12087710834325058\n",
      "Change     = 0.01176920377550296\n",
      "Generation = 20\n",
      "Fitness    = 0.13699144272579733\n",
      "Change     = 0.016114334382546752\n",
      "Generation = 21\n",
      "Fitness    = 0.1561520903722608\n",
      "Change     = 0.01916064764646347\n",
      "Generation = 22\n",
      "Fitness    = 0.18408935729749967\n",
      "Change     = 0.027937266925238874\n",
      "Generation = 23\n",
      "Fitness    = 0.22308360289178045\n",
      "Change     = 0.038994245594280774\n",
      "Generation = 24\n",
      "Fitness    = 0.27455798207696114\n",
      "Change     = 0.05147437918518069\n",
      "Generation = 25\n",
      "Fitness    = 0.3609449985830215\n",
      "Change     = 0.08638701650606034\n",
      "Generation = 26\n",
      "Fitness    = 0.5523353526570316\n",
      "Change     = 0.19139035407401012\n",
      "Generation = 27\n",
      "Fitness    = 1.1136628596951141\n",
      "Change     = 0.5613275070380825\n",
      "Generation = 28\n",
      "Fitness    = 60.39579484316514\n",
      "Change     = 59.28213198347003\n",
      "Generation = 29\n",
      "Fitness    = 158.06946195479364\n",
      "Change     = 97.6736671116285\n",
      "Generation = 30\n",
      "Fitness    = 158.06946195479364\n",
      "Change     = 0.0\n",
      "Generation = 31\n",
      "Fitness    = 158.06946195479364\n",
      "Change     = 0.0\n",
      "Generation = 32\n",
      "Fitness    = 158.06946195479364\n",
      "Change     = 0.0\n",
      "Generation = 33\n",
      "Fitness    = 1316.7441678643997\n",
      "Change     = 1158.674705909606\n",
      "Generation = 34\n",
      "Fitness    = 1316.7441678643997\n",
      "Change     = 0.0\n",
      "Generation = 35\n",
      "Fitness    = 1316.7441678643997\n",
      "Change     = 0.0\n",
      "Generation = 36\n",
      "Fitness    = 1316.7441678643997\n",
      "Change     = 0.0\n",
      "Generation = 37\n",
      "Fitness    = 1316.7441678643997\n",
      "Change     = 0.0\n",
      "Generation = 38\n",
      "Fitness    = 1316.7441678643997\n",
      "Change     = 0.0\n",
      "Generation = 39\n",
      "Fitness    = 1316.7441678643997\n",
      "Change     = 0.0\n",
      "Generation = 40\n",
      "Fitness    = 1316.7441678643997\n",
      "Change     = 0.0\n",
      "Generation = 41\n",
      "Fitness    = 1316.7441678643997\n",
      "Change     = 0.0\n",
      "Generation = 42\n",
      "Fitness    = 1316.7441678643997\n",
      "Change     = 0.0\n",
      "Generation = 43\n",
      "Fitness    = 1316.7441678643997\n",
      "Change     = 0.0\n",
      "Generation = 44\n",
      "Fitness    = 1316.7441678643997\n",
      "Change     = 0.0\n",
      "Generation = 45\n",
      "Fitness    = 1316.7441678643997\n",
      "Change     = 0.0\n",
      "Generation = 46\n",
      "Fitness    = 1316.7441678643997\n",
      "Change     = 0.0\n",
      "Generation = 47\n",
      "Fitness    = 1602.8119533397928\n",
      "Change     = 286.06778547539307\n",
      "Generation = 48\n",
      "Fitness    = 1602.8119533397928\n",
      "Change     = 0.0\n",
      "Generation = 49\n",
      "Fitness    = 1602.8119533397928\n",
      "Change     = 0.0\n",
      "Generation = 50\n",
      "Fitness    = 1602.8119533397928\n",
      "Change     = 0.0\n",
      "Generation = 51\n",
      "Fitness    = 1602.8119533397928\n",
      "Change     = 0.0\n",
      "Generation = 52\n",
      "Fitness    = 1602.8119533397928\n",
      "Change     = 0.0\n",
      "Generation = 53\n",
      "Fitness    = 1602.8119533397928\n",
      "Change     = 0.0\n",
      "Generation = 54\n",
      "Fitness    = 1602.8119533397928\n",
      "Change     = 0.0\n",
      "Generation = 55\n",
      "Fitness    = 1602.8119533397928\n",
      "Change     = 0.0\n",
      "Generation = 56\n",
      "Fitness    = 1602.8119533397928\n",
      "Change     = 0.0\n",
      "Generation = 57\n",
      "Fitness    = 1602.8119533397928\n",
      "Change     = 0.0\n",
      "Generation = 58\n",
      "Fitness    = 1602.8119533397928\n",
      "Change     = 0.0\n",
      "Generation = 59\n",
      "Fitness    = 1602.8119533397928\n",
      "Change     = 0.0\n",
      "Generation = 60\n",
      "Fitness    = 1602.8119533397928\n",
      "Change     = 0.0\n",
      "Generation = 61\n",
      "Fitness    = 1602.8119533397928\n",
      "Change     = 0.0\n",
      "Generation = 62\n",
      "Fitness    = 1602.8119533397928\n",
      "Change     = 0.0\n",
      "Generation = 63\n",
      "Fitness    = 1602.8119533397928\n",
      "Change     = 0.0\n",
      "Generation = 64\n",
      "Fitness    = 1602.8119533397928\n",
      "Change     = 0.0\n",
      "Generation = 65\n",
      "Fitness    = 1602.8119533397928\n",
      "Change     = 0.0\n",
      "Generation = 66\n",
      "Fitness    = 1602.8119533397928\n",
      "Change     = 0.0\n",
      "Generation = 67\n",
      "Fitness    = 1602.8119533397928\n",
      "Change     = 0.0\n",
      "Generation = 68\n",
      "Fitness    = 4385.340535754428\n",
      "Change     = 2782.528582414635\n",
      "Generation = 69\n",
      "Fitness    = 4385.340535754428\n",
      "Change     = 0.0\n",
      "Generation = 70\n",
      "Fitness    = 73579.19268024684\n",
      "Change     = 69193.85214449241\n",
      "Generation = 71\n",
      "Fitness    = 73579.19268024684\n",
      "Change     = 0.0\n",
      "Generation = 72\n",
      "Fitness    = 73579.19268024684\n",
      "Change     = 0.0\n",
      "Generation = 73\n",
      "Fitness    = 73579.19268024684\n",
      "Change     = 0.0\n",
      "Generation = 74\n",
      "Fitness    = 73579.19268024684\n",
      "Change     = 0.0\n",
      "Generation = 75\n",
      "Fitness    = 73579.19268024684\n",
      "Change     = 0.0\n",
      "Generation = 76\n",
      "Fitness    = 73579.19268024684\n",
      "Change     = 0.0\n",
      "Generation = 77\n",
      "Fitness    = 73579.19268024684\n",
      "Change     = 0.0\n",
      "Generation = 78\n",
      "Fitness    = 73579.19268024684\n",
      "Change     = 0.0\n",
      "Generation = 79\n",
      "Fitness    = 73579.19268024684\n",
      "Change     = 0.0\n",
      "Generation = 80\n",
      "Fitness    = 73579.19268024684\n",
      "Change     = 0.0\n",
      "Generation = 81\n",
      "Fitness    = 73579.19268024684\n",
      "Change     = 0.0\n",
      "Generation = 82\n",
      "Fitness    = 73579.19268024684\n",
      "Change     = 0.0\n",
      "Generation = 83\n",
      "Fitness    = 73579.19268024684\n",
      "Change     = 0.0\n",
      "Generation = 84\n",
      "Fitness    = 73579.19268024684\n",
      "Change     = 0.0\n",
      "Generation = 85\n",
      "Fitness    = 73579.19268024684\n",
      "Change     = 0.0\n",
      "Generation = 86\n",
      "Fitness    = 73579.19268024684\n",
      "Change     = 0.0\n",
      "Generation = 87\n",
      "Fitness    = 73579.19268024684\n",
      "Change     = 0.0\n",
      "Generation = 88\n",
      "Fitness    = 73579.19268024684\n",
      "Change     = 0.0\n",
      "Generation = 89\n",
      "Fitness    = 73579.19268024684\n",
      "Change     = 0.0\n",
      "Generation = 90\n",
      "Fitness    = 73579.19268024684\n",
      "Change     = 0.0\n",
      "Generation = 91\n",
      "Fitness    = 73579.19268024684\n",
      "Change     = 0.0\n",
      "Generation = 92\n",
      "Fitness    = 73579.19268024684\n",
      "Change     = 0.0\n",
      "Generation = 93\n",
      "Fitness    = 73579.19268024684\n",
      "Change     = 0.0\n",
      "Generation = 94\n",
      "Fitness    = 73579.19268024684\n",
      "Change     = 0.0\n",
      "Generation = 95\n",
      "Fitness    = 73579.19268024684\n",
      "Change     = 0.0\n",
      "Generation = 96\n",
      "Fitness    = 73579.19268024684\n",
      "Change     = 0.0\n",
      "Generation = 97\n",
      "Fitness    = 73579.19268024684\n",
      "Change     = 0.0\n",
      "Generation = 98\n",
      "Fitness    = 73579.19268024684\n",
      "Change     = 0.0\n",
      "Generation = 99\n",
      "Fitness    = 73579.19268024684\n",
      "Change     = 0.0\n",
      "Generation = 100\n",
      "Fitness    = 73579.19268024684\n",
      "Change     = 0.0\n"
     ]
    }
   ],
   "source": [
    "ga_instance.run()"
   ]
  },
  {
   "cell_type": "markdown",
   "id": "4faa89d7",
   "metadata": {},
   "source": [
    "### Plot GA results"
   ]
  },
  {
   "cell_type": "code",
   "execution_count": 50,
   "id": "295675c9",
   "metadata": {
    "scrolled": false
   },
   "outputs": [
    {
     "data": {
      "image/png": "[encoded data removed]",
      "text/plain": [
       "<Figure size 432x288 with 1 Axes>"
      ]
     },
     "metadata": {
      "needs_background": "light"
     },
     "output_type": "display_data"
    },
    {
     "name": "stdout",
     "output_type": "stream",
     "text": [
      "Parameters of the best solution : [26.5]\n",
      "Fitness value of the best solution = 73579.19268024684\n",
      "Index of the best solution : 0\n"
     ]
    }
   ],
   "source": [
    "# After the generations complete, some plots are showed that summarize the how the outputs/fitenss values evolve over generations.\n",
    "ga_instance.plot_result()\n",
    "# Returning the details of the best solution.\n",
    "solution, solution_fitness, solution_idx = ga_instance.best_solution()\n",
    "print(\"Parameters of the best solution : {solution}\".format(solution=solution))\n",
    "print(\"Fitness value of the best solution = {solution_fitness}\".format(solution_fitness=solution_fitness))\n",
    "print(\"Index of the best solution : {solution_idx}\".format(solution_idx=solution_idx))"
   ]
  },
  {
   "cell_type": "code",
   "execution_count": 22,
   "id": "39921d38",
   "metadata": {},
   "outputs": [
    {
     "data": {
      "text/html": [
       "<div>\n",
       "<style scoped>\n",
       "    .dataframe tbody tr th:only-of-type {\n",
       "        vertical-align: middle;\n",
       "    }\n",
       "\n",
       "    .dataframe tbody tr th {\n",
       "        vertical-align: top;\n",
       "    }\n",
       "\n",
       "    .dataframe thead th {\n",
       "        text-align: right;\n",
       "    }\n",
       "</style>\n",
       "<table border=\"1\" class=\"dataframe\">\n",
       "  <thead>\n",
       "    <tr style=\"text-align: right;\">\n",
       "      <th></th>\n",
       "      <th>N1</th>\n",
       "      <th>N5</th>\n",
       "      <th>N10</th>\n",
       "      <th>N7</th>\n",
       "      <th>N2</th>\n",
       "      <th>N6</th>\n",
       "      <th>N3</th>\n",
       "      <th>N8</th>\n",
       "      <th>N13</th>\n",
       "      <th>N9</th>\n",
       "      <th>N14</th>\n",
       "      <th>N4</th>\n",
       "      <th>N11</th>\n",
       "      <th>N12</th>\n",
       "      <th>N15</th>\n",
       "      <th>N16</th>\n",
       "      <th>Reservior</th>\n",
       "    </tr>\n",
       "  </thead>\n",
       "  <tbody>\n",
       "    <tr>\n",
       "      <th>7200</th>\n",
       "      <td>-32103.941171</td>\n",
       "      <td>-44037.60169</td>\n",
       "      <td>-44032.655235</td>\n",
       "      <td>-409458.979882</td>\n",
       "      <td>-66829.398115</td>\n",
       "      <td>-92395.822392</td>\n",
       "      <td>-200610.217312</td>\n",
       "      <td>-727614.458318</td>\n",
       "      <td>-727609.022255</td>\n",
       "      <td>-594804.449822</td>\n",
       "      <td>-594803.761074</td>\n",
       "      <td>-200608.302025</td>\n",
       "      <td>-44033.783298</td>\n",
       "      <td>-727615.029291</td>\n",
       "      <td>-44032.659281</td>\n",
       "      <td>-409458.982877</td>\n",
       "      <td>0.0</td>\n",
       "    </tr>\n",
       "  </tbody>\n",
       "</table>\n",
       "</div>"
      ],
      "text/plain": [
       "                N1           N5           N10             N7            N2  \\\n",
       "7200 -32103.941171 -44037.60169 -44032.655235 -409458.979882 -66829.398115   \n",
       "\n",
       "                N6             N3             N8            N13  \\\n",
       "7200 -92395.822392 -200610.217312 -727614.458318 -727609.022255   \n",
       "\n",
       "                 N9            N14             N4           N11  \\\n",
       "7200 -594804.449822 -594803.761074 -200608.302025 -44033.783298   \n",
       "\n",
       "                N12           N15            N16  Reservior  \n",
       "7200 -727615.029291 -44032.659281 -409458.982877        0.0  "
      ]
     },
     "execution_count": 22,
     "metadata": {},
     "output_type": "execute_result"
    }
   ],
   "source": [
    "# (6) The solution is confirmed launching Epanet:\n",
    "# Change a parameter value (demand at N8) and run the model again\n",
    "junction = wn.get_node('N8')\n",
    "junction.demand_timeseries_list[0].base_value = function_inputs*solution[0]\n",
    "results = sim.run_sim()\n",
    "# Get and print the new pressure\n",
    "pressure = results.node['pressure']\n",
    "pressure"
   ]
  },
  {
   "cell_type": "code",
   "execution_count": null,
   "id": "9202bafe",
   "metadata": {},
   "outputs": [],
   "source": [
    "ga_instance.save('genetic_algo')"
   ]
  },
  {
   "cell_type": "code",
   "execution_count": null,
   "id": "b2835a80",
   "metadata": {},
   "outputs": [],
   "source": [
    "import pickle"
   ]
  },
  {
   "cell_type": "code",
   "execution_count": null,
   "id": "362e318d",
   "metadata": {},
   "outputs": [],
   "source": [
    "model = pickle.load(open('genetic_algo.pkl', 'rb'))"
   ]
  },
  {
   "cell_type": "code",
   "execution_count": null,
   "id": "5801d8b5",
   "metadata": {
    "scrolled": true
   },
   "outputs": [],
   "source": [
    "model.predict()"
   ]
  },
  {
   "cell_type": "code",
   "execution_count": null,
   "id": "5681f821",
   "metadata": {},
   "outputs": [],
   "source": []
  }
 ],
 "metadata": {
  "kernelspec": {
   "display_name": "Python 3 (ipykernel)",
   "language": "python",
   "name": "python3"
  },
  "language_info": {
   "codemirror_mode": {
    "name": "ipython",
    "version": 3
   },
   "file_extension": ".py",
   "mimetype": "text/x-python",
   "name": "python",
   "nbconvert_exporter": "python",
   "pygments_lexer": "ipython3",
   "version": "3.8.8"
  }
 },
 "nbformat": 4,
 "nbformat_minor": 5
}
